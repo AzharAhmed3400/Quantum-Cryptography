{
 "cells": [
  {
   "cell_type": "code",
   "execution_count": 204,
   "metadata": {},
   "outputs": [],
   "source": [
    "# imports\n",
    "import numpy as np\n",
    "import random as rand"
   ]
  },
  {
   "cell_type": "code",
   "execution_count": 205,
   "metadata": {},
   "outputs": [],
   "source": [
    "# function to choose basis for Alice and Bob\n",
    "def generate_basis(length):\n",
    "    aliceBasis = np.random.choice([\"+\",\"x\"], length)\n",
    "    bobBasis = np.random.choice([\"+\",\"x\"], length)\n",
    "    eveBasis = np.random.choice([\"+\",\"x\"], length)\n",
    "    return aliceBasis, bobBasis, eveBasis"
   ]
  },
  {
   "cell_type": "code",
   "execution_count": 206,
   "metadata": {},
   "outputs": [],
   "source": [
    "# function to generate message to be sent\n",
    "def generate_message(aliceBasis):\n",
    "    message = []\n",
    "    for i in aliceBasis:\n",
    "        message.append(np.random.choice([0,1]))\n",
    "    return np.array(message)"
   ]
  },
  {
   "cell_type": "code",
   "execution_count": 207,
   "metadata": {},
   "outputs": [],
   "source": [
    "def eve_intercept(aliceBasis, eveBasis, alice_message):\n",
    "    eve_int = []\n",
    "    for i in range(len(alice_message)):\n",
    "        if aliceBasis[i] == eveBasis[i]:\n",
    "            eve_int.append(alice_message[i])\n",
    "        else:\n",
    "            eve_int.append(np.random.choice([0,1]))\n",
    "    return np.array(eve_int)"
   ]
  },
  {
   "cell_type": "code",
   "execution_count": 208,
   "metadata": {},
   "outputs": [],
   "source": [
    "def decode_message(aliceBasis, bobBasis, message):\n",
    "    bob_int = []\n",
    "    for i in range(len(message)):\n",
    "        if aliceBasis[i] == bobBasis[i]:\n",
    "            bob_int.append(message[i])\n",
    "        else:\n",
    "            bob_int.append(np.random.choice([0,1]))\n",
    "    return np.array(bob_int)"
   ]
  },
  {
   "cell_type": "code",
   "execution_count": 209,
   "metadata": {},
   "outputs": [],
   "source": [
    "# function determine the accuracy between the expected message the actual message as a percent value\n",
    "def accuracy(original, decoded):\n",
    "    return np.sum(original == decoded) / len(original) * 100"
   ]
  },
  {
   "cell_type": "code",
   "execution_count": 210,
   "metadata": {},
   "outputs": [],
   "source": [
    "def key(a1, b1):\n",
    "    key = []\n",
    "    for i in range(len(a1)):\n",
    "        if a1[i] == b1[i]:\n",
    "            key.append(a1[i])\n",
    "    return np.array(key)"
   ]
  },
  {
   "cell_type": "markdown",
   "metadata": {},
   "source": [
    "Many runs to get larger accuracy"
   ]
  },
  {
   "cell_type": "code",
   "execution_count": 211,
   "metadata": {},
   "outputs": [],
   "source": [
    "# eve intercepts the message\n",
    "def main():\n",
    "    length = 15\n",
    "    bob_acc = 0\n",
    "    for i in range(1000):\n",
    "        # establish basis'\n",
    "        aliceBasis, bobBasis, eveBasis = generate_basis(length)\n",
    "        \n",
    "        # encoding Alice's message using her key\n",
    "        alice_message = generate_message(aliceBasis)\n",
    "\n",
    "        # eve intercepts ava message and modifies it\n",
    "        eve_message = eve_intercept(aliceBasis, eveBasis, alice_message)\n",
    "\n",
    "        # decoding encrypted message sent by Alice that has been modified by Eve using Bob's key\n",
    "        bob_decoded = decode_message(aliceBasis, bobBasis, eve_message)\n",
    "        bob_acc += accuracy(alice_message, bob_decoded)\n",
    "    print(\"Bob's accuracy after 1000 runs\", bob_acc / 1000)"
   ]
  },
  {
   "cell_type": "code",
   "execution_count": 212,
   "metadata": {},
   "outputs": [
    {
     "name": "stdout",
     "output_type": "stream",
     "text": [
      "Bob's accuracy after 1000 runs 61.946666666666644\n"
     ]
    }
   ],
   "source": [
    "main()"
   ]
  },
  {
   "cell_type": "code",
   "execution_count": 213,
   "metadata": {},
   "outputs": [
    {
     "name": "stdout",
     "output_type": "stream",
     "text": [
      "Bob's accuracy after 1000 runs 75.51333333333335\n"
     ]
    }
   ],
   "source": [
    "# eve doesnt intercept the message\n",
    "def main2():\n",
    "    length = 15\n",
    "    bob_acc = 0\n",
    "    for i in range(1000):\n",
    "        # establish basis'\n",
    "        aliceBasis, bobBasis, eveBasis = generate_basis(length)\n",
    "        \n",
    "        # encoding Alice's message using her key\n",
    "        alice_message = generate_message(aliceBasis)\n",
    "\n",
    "        # decoding encrypted message sent by Alice that has been modified by Eve using Bob's key\n",
    "        bob_decoded = decode_message(aliceBasis, bobBasis, alice_message)\n",
    "\n",
    "        bob_acc += accuracy(alice_message, bob_decoded)\n",
    "    print(\"Bob's accuracy after 1000 runs\", bob_acc / 1000)\n",
    "\n",
    "main2()"
   ]
  },
  {
   "cell_type": "code",
   "execution_count": null,
   "metadata": {},
   "outputs": [],
   "source": []
  }
 ],
 "metadata": {
  "kernelspec": {
   "display_name": "Python 3 (ipykernel)",
   "language": "python",
   "name": "python3"
  },
  "language_info": {
   "codemirror_mode": {
    "name": "ipython",
    "version": 3
   },
   "file_extension": ".py",
   "mimetype": "text/x-python",
   "name": "python",
   "nbconvert_exporter": "python",
   "pygments_lexer": "ipython3",
   "version": "3.13.0"
  }
 },
 "nbformat": 4,
 "nbformat_minor": 4
}
